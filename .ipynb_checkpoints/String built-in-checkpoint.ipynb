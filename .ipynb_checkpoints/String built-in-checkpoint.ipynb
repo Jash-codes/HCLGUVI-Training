{
 "cells": [
  {
   "cell_type": "markdown",
   "id": "cbcbe0ef-55f9-4e99-9425-41e3b100a0a9",
   "metadata": {},
   "source": [
    "## Python String Built-in Methods"
   ]
  },
  {
   "cell_type": "code",
   "execution_count": 12,
   "id": "3ef575a7-8171-4410-9411-67d98d86fe75",
   "metadata": {},
   "outputs": [],
   "source": [
    "txt = \"jashwanth\""
   ]
  },
  {
   "cell_type": "code",
   "execution_count": null,
   "id": "db5dac28-33dd-4a83-b985-dcf96a9834ea",
   "metadata": {},
   "outputs": [
    {
     "name": "stdout",
     "output_type": "stream",
     "text": [
      "Jashwanth\n"
     ]
    }
   ],
   "source": [
    "x = txt.capitalize()\n",
    "\n",
    "print (x)"
   ]
  },
  {
   "cell_type": "code",
   "execution_count": 8,
   "id": "867fedfc-a545-4755-aafc-80ac28c698d6",
   "metadata": {},
   "outputs": [
    {
     "name": "stdout",
     "output_type": "stream",
     "text": [
      "jashwanth\n"
     ]
    }
   ],
   "source": [
    "x = txt.casefold()\n",
    "\n",
    "print(x)"
   ]
  },
  {
   "cell_type": "code",
   "execution_count": 9,
   "id": "0792cdc2-bfc6-4412-b0f8-1201aef6f8b2",
   "metadata": {},
   "outputs": [
    {
     "name": "stdout",
     "output_type": "stream",
     "text": [
      "          jashwanth           \n"
     ]
    }
   ],
   "source": [
    "x = txt.center(30)\n",
    "\n",
    "print(x)"
   ]
  },
  {
   "cell_type": "code",
   "execution_count": 11,
   "id": "ba4ab586-643b-487b-a3c9-3c4902cedb3f",
   "metadata": {},
   "outputs": [
    {
     "name": "stdout",
     "output_type": "stream",
     "text": [
      "2\n"
     ]
    }
   ],
   "source": [
    "text = \"his name is jashwanth,he was born on march,jashwanth is 20 years now\"\n",
    "\n",
    "y = text.count(\"jashwanth\")\n",
    "\n",
    "print(y)"
   ]
  },
  {
   "cell_type": "code",
   "execution_count": 13,
   "id": "bf9b31fe-066f-4c4f-9883-34a64bca02c6",
   "metadata": {},
   "outputs": [
    {
     "name": "stdout",
     "output_type": "stream",
     "text": [
      "b'jashwanth'\n"
     ]
    }
   ],
   "source": [
    "x = txt.encode()\n",
    "\n",
    "print(x)"
   ]
  },
  {
   "cell_type": "code",
   "execution_count": 14,
   "id": "30c68640-2c8b-4406-b244-a2c2fd2d17b2",
   "metadata": {},
   "outputs": [
    {
     "name": "stdout",
     "output_type": "stream",
     "text": [
      "True\n"
     ]
    }
   ],
   "source": [
    "x = txt.endswith(\"h\")\n",
    "\n",
    "print(x)"
   ]
  },
  {
   "cell_type": "code",
   "execution_count": 26,
   "id": "e327f4b4-5212-428b-a364-d781f4f0daaa",
   "metadata": {},
   "outputs": [
    {
     "name": "stdout",
     "output_type": "stream",
     "text": [
      "j\ta\ts\th\tw\ta\tn\tt\th\t\n",
      "j       a       s       h       w       a       n       t       h       \n",
      "j a s h w a n t h \n",
      "j   a   s   h   w   a   n   t   h   \n",
      "j         a         s         h         w         a         n         t         h         \n"
     ]
    }
   ],
   "source": [
    "txt = \"j\\ta\\ts\\th\\tw\\ta\\tn\\tt\\th\\t\"\n",
    "\n",
    "print(txt)\n",
    "print(txt.expandtabs())\n",
    "print(txt.expandtabs(2))\n",
    "print(txt.expandtabs(4))\n",
    "print(txt.expandtabs(10))"
   ]
  },
  {
   "cell_type": "code",
   "execution_count": 27,
   "id": "ddad2630-896f-4aa5-ac2d-46ac692f9988",
   "metadata": {},
   "outputs": [
    {
     "name": "stdout",
     "output_type": "stream",
     "text": [
      "8\n"
     ]
    }
   ],
   "source": [
    "txt = \"My name is jashwanth\"\n",
    "\n",
    "x = txt.find(\"is\")\n",
    "\n",
    "print(x)"
   ]
  },
  {
   "cell_type": "code",
   "execution_count": 28,
   "id": "b92699c4-6a4f-4d8e-813d-5fe3716d1570",
   "metadata": {},
   "outputs": [
    {
     "name": "stdout",
     "output_type": "stream",
     "text": [
      "My names is Jash\n"
     ]
    }
   ],
   "source": [
    "txt = \"My names is {name}\"\n",
    "print(txt.format(name = \"Jash\"))"
   ]
  },
  {
   "cell_type": "code",
   "execution_count": 30,
   "id": "f857bf81-2543-490c-9f95-662a5e3917c4",
   "metadata": {},
   "outputs": [
    {
     "name": "stdout",
     "output_type": "stream",
     "text": [
      "hi my name is Jashwanth ans i'm 20 years old\n"
     ]
    }
   ],
   "source": [
    "myvar = {\"name\" : \"Jashwanth\", \"age\" : 20}\n",
    "txt = \"hi my name is {name} ans i'm {age} years old\"\n",
    "print(txt.format_map(myvar))"
   ]
  },
  {
   "cell_type": "code",
   "execution_count": 31,
   "id": "ed4997ae-5056-4baf-a2cd-e5fc01dee615",
   "metadata": {},
   "outputs": [
    {
     "name": "stdout",
     "output_type": "stream",
     "text": [
      "3\n"
     ]
    }
   ],
   "source": [
    "txt = \"my name is jash\"\n",
    "\n",
    "x = txt.index(\"name\")\n",
    "\n",
    "print(x)"
   ]
  },
  {
   "cell_type": "code",
   "execution_count": 36,
   "id": "443429ec-e041-40d9-b067-a8ef4af9b02b",
   "metadata": {},
   "outputs": [
    {
     "name": "stdout",
     "output_type": "stream",
     "text": [
      "True\n",
      "False\n"
     ]
    }
   ],
   "source": [
    "txt = \"jashwanth632005\"\n",
    "\n",
    "text = \"@Jash\"\n",
    "\n",
    "x = txt.isalnum()\n",
    "y = text.isalnum()\n",
    "\n",
    "print(x)\n",
    "print(y)"
   ]
  },
  {
   "cell_type": "code",
   "execution_count": 38,
   "id": "8ebb7a40-6689-47cb-a048-734af46cea48",
   "metadata": {},
   "outputs": [
    {
     "name": "stdout",
     "output_type": "stream",
     "text": [
      "True\n",
      "False\n"
     ]
    }
   ],
   "source": [
    "txt = \"jashwanthG\"\n",
    "text = \"Jashwanth632005\"\n",
    "\n",
    "x = txt.isalpha()\n",
    "y = text.isalpha()\n",
    "\n",
    "print(x)\n",
    "print(y)"
   ]
  },
  {
   "cell_type": "code",
   "execution_count": 37,
   "id": "f6bb356e-598d-4d93-9802-ee345ca7d45e",
   "metadata": {},
   "outputs": [
    {
     "name": "stdout",
     "output_type": "stream",
     "text": [
      "True\n"
     ]
    }
   ],
   "source": [
    "txt = \"jashwanth632005\"\n",
    "\n",
    "x = txt.isascii()\n",
    "\n",
    "print(x)"
   ]
  },
  {
   "cell_type": "code",
   "execution_count": 40,
   "id": "1c108e54-a794-45de-adbd-11a2cf66b8c1",
   "metadata": {},
   "outputs": [
    {
     "name": "stdout",
     "output_type": "stream",
     "text": [
      "True\n",
      "False\n"
     ]
    }
   ],
   "source": [
    "txt = \"1234\"\n",
    "text = \"Jash\"\n",
    "\n",
    "x = txt.isdecimal()\n",
    "y = text.isdecimal()\n",
    "\n",
    "print(x)\n",
    "print(y)"
   ]
  },
  {
   "cell_type": "code",
   "execution_count": 41,
   "id": "d71b26d3-63cd-40a3-ac0c-f500530f74a9",
   "metadata": {},
   "outputs": [
    {
     "name": "stdout",
     "output_type": "stream",
     "text": [
      "True\n",
      "False\n"
     ]
    }
   ],
   "source": [
    "txt = \"632005\"\n",
    "text = \"j1234\"\n",
    "\n",
    "x = txt.isdigit()\n",
    "y = text.isdigit()\n",
    "\n",
    "print(x)\n",
    "print(y)"
   ]
  },
  {
   "cell_type": "code",
   "execution_count": 42,
   "id": "2d88d46e-6b2d-4eeb-a51a-9d3862530f3d",
   "metadata": {},
   "outputs": [
    {
     "name": "stdout",
     "output_type": "stream",
     "text": [
      "True\n",
      "False\n"
     ]
    }
   ],
   "source": [
    "txt = \"jashwanth\"\n",
    "text = \"123 Jash\"\n",
    "\n",
    "x = txt.isidentifier()\n",
    "y = text.isidentifier()\n",
    "\n",
    "print(x)\n",
    "print(y)"
   ]
  },
  {
   "cell_type": "code",
   "execution_count": 43,
   "id": "c6654a94-0a14-4c14-9701-e9b720419f0a",
   "metadata": {},
   "outputs": [
    {
     "name": "stdout",
     "output_type": "stream",
     "text": [
      "False\n",
      "True\n"
     ]
    }
   ],
   "source": [
    "txt = \"JASHWANTH\"\n",
    "text = \"jashwanth\"\n",
    "\n",
    "x = txt.islower()\n",
    "y = text.islower()\n",
    "\n",
    "print(x)\n",
    "print(y)"
   ]
  },
  {
   "cell_type": "code",
   "execution_count": 44,
   "id": "36c0e399-b65f-436e-96bb-bd9b4ab171b3",
   "metadata": {},
   "outputs": [
    {
     "name": "stdout",
     "output_type": "stream",
     "text": [
      "True\n"
     ]
    }
   ],
   "source": [
    "txt = \"987654321\"\n",
    "\n",
    "x = txt.isnumeric()\n",
    "\n",
    "print(x)"
   ]
  },
  {
   "cell_type": "code",
   "execution_count": 45,
   "id": "7fc92dfb-5adf-49e0-8709-8e572457e8db",
   "metadata": {},
   "outputs": [
    {
     "name": "stdout",
     "output_type": "stream",
     "text": [
      "True\n"
     ]
    }
   ],
   "source": [
    "txt = \"i'm Jash\"\n",
    "\n",
    "x = txt.isprintable()\n",
    "\n",
    "print(x)"
   ]
  },
  {
   "cell_type": "code",
   "execution_count": 47,
   "id": "acfbecc1-09c5-4976-97fa-dbe563f5ade3",
   "metadata": {},
   "outputs": [
    {
     "name": "stdout",
     "output_type": "stream",
     "text": [
      "True\n",
      "False\n"
     ]
    }
   ],
   "source": [
    "txt = \"   \"\n",
    "text = \"j\"\n",
    "\n",
    "x = txt.isspace()\n",
    "y = text.isspace()\n",
    "\n",
    "\n",
    "print(x)\n",
    "print(y)"
   ]
  },
  {
   "cell_type": "code",
   "execution_count": 48,
   "id": "7abc2a92-d0e6-41bd-a2d8-efef360f2022",
   "metadata": {},
   "outputs": [
    {
     "name": "stdout",
     "output_type": "stream",
     "text": [
      "True\n"
     ]
    }
   ],
   "source": [
    "txt = \"Hello, My Name Is Jashwanth\"\n",
    "\n",
    "x = txt.istitle()\n",
    "\n",
    "print(x)"
   ]
  },
  {
   "cell_type": "code",
   "execution_count": 51,
   "id": "730c3603-c25e-447a-a189-e35402e7c016",
   "metadata": {},
   "outputs": [
    {
     "name": "stdout",
     "output_type": "stream",
     "text": [
      "True\n"
     ]
    }
   ],
   "source": [
    "txt = \"HI ITS JASHWANTH\"\n",
    "\n",
    "x = txt.isupper()\n",
    "\n",
    "print(x)"
   ]
  },
  {
   "cell_type": "code",
   "execution_count": 52,
   "id": "0bdd79ab-5a4c-41d9-ad57-166923554c8c",
   "metadata": {},
   "outputs": [
    {
     "name": "stdout",
     "output_type": "stream",
     "text": [
      "Harry-Pottor\n"
     ]
    }
   ],
   "source": [
    "mytext = (\"Harry\", \"Pottor\")\n",
    "\n",
    "x = \"-\".join(mytext)\n",
    "\n",
    "print(x)"
   ]
  },
  {
   "cell_type": "code",
   "execution_count": 55,
   "id": "5c856cd9-7692-4c9c-9cfb-8f58f2ecd474",
   "metadata": {},
   "outputs": [
    {
     "name": "stdout",
     "output_type": "stream",
     "text": [
      "Apple                          is my favorite fruit.\n"
     ]
    }
   ],
   "source": [
    "txt = \"Apple\"\n",
    "\n",
    "x = txt.ljust(30)\n",
    "\n",
    "print(x, \"is my favorite fruit.\")"
   ]
  },
  {
   "cell_type": "code",
   "execution_count": 57,
   "id": "c443bf22-414e-4502-a587-3e12802aa028",
   "metadata": {},
   "outputs": [
    {
     "name": "stdout",
     "output_type": "stream",
     "text": [
      "this is a brand new car\n"
     ]
    }
   ],
   "source": [
    "txt = \"THIS IS a brand NEW car\"\n",
    "\n",
    "x = txt.lower()\n",
    "\n",
    "print(x)"
   ]
  },
  {
   "cell_type": "code",
   "execution_count": 58,
   "id": "bdca2d5b-05cb-4817-a9f3-3781f6af9f83",
   "metadata": {},
   "outputs": [
    {
     "name": "stdout",
     "output_type": "stream",
     "text": [
      "of all fruits banana      is my favorite\n"
     ]
    }
   ],
   "source": [
    "txt = \"     banana     \"\n",
    "\n",
    "x = txt.lstrip()\n",
    "\n",
    "print(\"of all fruits\", x, \"is my favorite\")"
   ]
  },
  {
   "cell_type": "code",
   "execution_count": 59,
   "id": "e42a6bda-51c4-416f-b1f5-b0b8df26978a",
   "metadata": {},
   "outputs": [
    {
     "name": "stdout",
     "output_type": "stream",
     "text": [
      "Hello Pam!\n"
     ]
    }
   ],
   "source": [
    "txt = \"Hello Sam!\"\n",
    "mytable = str.maketrans(\"S\", \"P\")\n",
    "print(txt.translate(mytable))"
   ]
  },
  {
   "cell_type": "code",
   "execution_count": 60,
   "id": "bdca996f-c07f-46b2-9f53-4f9fd153809a",
   "metadata": {},
   "outputs": [
    {
     "name": "stdout",
     "output_type": "stream",
     "text": [
      "('My names ', 'is', ' Jashwanth')\n"
     ]
    }
   ],
   "source": [
    "txt = \"My names is Jashwanth\"\n",
    "\n",
    "x = txt.partition(\"is\")\n",
    "\n",
    "print(x)"
   ]
  },
  {
   "cell_type": "code",
   "execution_count": 61,
   "id": "a168fbed-88e7-43e2-8525-c28eacb6d3ca",
   "metadata": {},
   "outputs": [
    {
     "name": "stdout",
     "output_type": "stream",
     "text": [
      "['I', 'am', 'Jash']\n"
     ]
    }
   ],
   "source": [
    "txt = \"I, am, Jash\"\n",
    "\n",
    "x = txt.rsplit(\", \")\n",
    "\n",
    "print(x)"
   ]
  },
  {
   "cell_type": "code",
   "execution_count": 62,
   "id": "521f46da-6ccf-4bb2-b71e-285aae7ab00a",
   "metadata": {},
   "outputs": [
    {
     "name": "stdout",
     "output_type": "stream",
     "text": [
      "['Earth', 'is', 'Round']\n"
     ]
    }
   ],
   "source": [
    "txt = \"Earth is Round\"\n",
    "\n",
    "x = txt.split()\n",
    "\n",
    "print(x)"
   ]
  },
  {
   "cell_type": "code",
   "execution_count": 63,
   "id": "5948df39-e920-4727-937c-1ec05e11afbe",
   "metadata": {},
   "outputs": [
    {
     "name": "stdout",
     "output_type": "stream",
     "text": [
      "['Earth is flat', 'Earth is round']\n"
     ]
    }
   ],
   "source": [
    "txt = \"Earth is flat\\nEarth is round\"\n",
    "\n",
    "x = txt.splitlines()\n",
    "\n",
    "print(x)"
   ]
  },
  {
   "cell_type": "code",
   "execution_count": 64,
   "id": "b30e3ace-f11f-493c-851c-9a37ca2d9d32",
   "metadata": {},
   "outputs": [
    {
     "name": "stdout",
     "output_type": "stream",
     "text": [
      "True\n"
     ]
    }
   ],
   "source": [
    "txt = \"Hello, welcome to my world.\"\n",
    "\n",
    "x = txt.startswith(\"Hello\")\n",
    "\n",
    "print(x)"
   ]
  },
  {
   "cell_type": "code",
   "execution_count": 65,
   "id": "4eeae53c-c204-4257-8df2-8eb173a2ba6c",
   "metadata": {},
   "outputs": [
    {
     "name": "stdout",
     "output_type": "stream",
     "text": [
      "of all fruits banana is my favorite\n"
     ]
    }
   ],
   "source": [
    "txt = \"     banana     \"\n",
    "\n",
    "x = txt.strip()\n",
    "\n",
    "print(\"of all fruits\", x, \"is my favorite\")"
   ]
  },
  {
   "cell_type": "code",
   "execution_count": 67,
   "id": "6499105d-e872-4950-9372-b8d0a8064080",
   "metadata": {},
   "outputs": [
    {
     "name": "stdout",
     "output_type": "stream",
     "text": [
      "000000000000006\n"
     ]
    }
   ],
   "source": [
    "txt = \"06\"\n",
    "\n",
    "x = txt.zfill(15)\n",
    "\n",
    "print(x)"
   ]
  },
  {
   "cell_type": "code",
   "execution_count": 68,
   "id": "bd3564c1-24ae-4d26-95cb-937f23374c48",
   "metadata": {},
   "outputs": [
    {
     "name": "stdout",
     "output_type": "stream",
     "text": [
      "hELLO mY nAME iS jashwanth\n"
     ]
    }
   ],
   "source": [
    "txt = \"Hello My Name Is JASHWANTH\"\n",
    "\n",
    "x = txt.swapcase()\n",
    "\n",
    "print(x)"
   ]
  }
 ],
 "metadata": {
  "kernelspec": {
   "display_name": "Python 3 (ipykernel)",
   "language": "python",
   "name": "python3"
  },
  "language_info": {
   "codemirror_mode": {
    "name": "ipython",
    "version": 3
   },
   "file_extension": ".py",
   "mimetype": "text/x-python",
   "name": "python",
   "nbconvert_exporter": "python",
   "pygments_lexer": "ipython3",
   "version": "3.12.4"
  }
 },
 "nbformat": 4,
 "nbformat_minor": 5
}
