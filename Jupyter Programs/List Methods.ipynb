{
 "cells": [
  {
   "cell_type": "code",
   "execution_count": 2,
   "id": "96a105b4-9b0a-4cb4-8cff-090ffd6e45fb",
   "metadata": {},
   "outputs": [
    {
     "name": "stdout",
     "output_type": "stream",
     "text": [
      "[1, 2, 3, 4, 5, 6]\n"
     ]
    }
   ],
   "source": [
    "list = [1,2,3,4,5]\n",
    "list.append(6)\n",
    "print(list)"
   ]
  },
  {
   "cell_type": "code",
   "execution_count": 7,
   "id": "6bb86fdd-2067-43f3-a81e-e39f65e7bf71",
   "metadata": {},
   "outputs": [
    {
     "name": "stdout",
     "output_type": "stream",
     "text": [
      "[]\n"
     ]
    }
   ],
   "source": [
    "list = [1,2,3,4,5]\n",
    "list.clear()\n",
    "print(list)"
   ]
  },
  {
   "cell_type": "code",
   "execution_count": 8,
   "id": "27256c1d-3408-4e08-88f0-f1c0a5747c3f",
   "metadata": {},
   "outputs": [
    {
     "name": "stdout",
     "output_type": "stream",
     "text": [
      "[1, 2, 3, 4, 5]\n"
     ]
    }
   ],
   "source": [
    "l1 = [1,2,3,4,5]\n",
    "l2 = l1.copy()\n",
    "print(l2)"
   ]
  },
  {
   "cell_type": "code",
   "execution_count": 9,
   "id": "a400aba1-8450-48ae-81e3-1cdf3b7aa8f8",
   "metadata": {},
   "outputs": [
    {
     "name": "stdout",
     "output_type": "stream",
     "text": [
      "2\n"
     ]
    }
   ],
   "source": [
    "l1 = [5,6,3,2,7,3,6,7,1,4]\n",
    "x = l1.count(7)\n",
    "print(x)"
   ]
  },
  {
   "cell_type": "code",
   "execution_count": 14,
   "id": "625da16f-8dbb-4cf7-9d53-6fddd0a0cbe9",
   "metadata": {},
   "outputs": [
    {
     "name": "stdout",
     "output_type": "stream",
     "text": [
      "['jash', 'max', 'leclerc', 'russel', 'hamilton', 'piastri']\n"
     ]
    }
   ],
   "source": [
    "l1 = [\"jash\", \"max\",\"leclerc\"]\n",
    "l2 = [\"russel\",\"hamilton\",\"piastri\"]\n",
    "l1.extend(l2)\n",
    "print(l1)"
   ]
  },
  {
   "cell_type": "code",
   "execution_count": 15,
   "id": "a04ddafc-118e-4e4b-ad81-d05db1c2ae9c",
   "metadata": {},
   "outputs": [
    {
     "data": {
      "text/plain": [
       "2"
      ]
     },
     "execution_count": 15,
     "metadata": {},
     "output_type": "execute_result"
    }
   ],
   "source": [
    "l1 = [\"jash\", \"max\",\"leclerc\"]\n",
    "l1.index(\"leclerc\")"
   ]
  },
  {
   "cell_type": "code",
   "execution_count": 17,
   "id": "96547230-a944-40b7-8b19-5e2e0816480a",
   "metadata": {},
   "outputs": [
    {
     "name": "stdout",
     "output_type": "stream",
     "text": [
      "['jash', 'max', 'leclerc', 'lando']\n"
     ]
    }
   ],
   "source": [
    "l1 = [\"jash\", \"max\",\"leclerc\"]\n",
    "l1.insert(3,\"lando\")\n",
    "print(l1)"
   ]
  },
  {
   "cell_type": "code",
   "execution_count": 21,
   "id": "f189e9df-8d9d-43a0-9198-171bdeb0cdb0",
   "metadata": {},
   "outputs": [
    {
     "name": "stdout",
     "output_type": "stream",
     "text": [
      "['jash', 'max', 'leclerc', 'piastri']\n"
     ]
    }
   ],
   "source": [
    "l1 = [\"jash\", \"max\",\"leclerc\",\"piastri\",\"hamilton\"]\n",
    "l1.pop()\n",
    "print(l1)"
   ]
  },
  {
   "cell_type": "code",
   "execution_count": 20,
   "id": "879b894c-c34f-4127-a478-27b9b821a956",
   "metadata": {},
   "outputs": [
    {
     "name": "stdout",
     "output_type": "stream",
     "text": [
      "['jash', 'max', 'leclerc', 'piastri']\n"
     ]
    }
   ],
   "source": [
    "l1 = [\"jash\", \"max\",\"leclerc\",\"piastri\",\"hamilton\"]\n",
    "l1.remove(\"hamilton\")\n",
    "print(l1)"
   ]
  },
  {
   "cell_type": "code",
   "execution_count": 23,
   "id": "c9768619-351e-456d-8b63-57d64c124767",
   "metadata": {},
   "outputs": [
    {
     "name": "stdout",
     "output_type": "stream",
     "text": [
      "['hamilton', 'piastri', 'leclerc', 'max', 'jash']\n"
     ]
    }
   ],
   "source": [
    "l1 = [\"jash\", \"max\",\"leclerc\",\"piastri\",\"hamilton\"]\n",
    "l1.reverse()\n",
    "print(l1)"
   ]
  },
  {
   "cell_type": "code",
   "execution_count": 26,
   "id": "91a4200d-a445-428a-b021-23881f35b489",
   "metadata": {},
   "outputs": [
    {
     "name": "stdout",
     "output_type": "stream",
     "text": [
      "['hamilton', 'jash', 'leclerc', 'max', 'piastri']\n"
     ]
    }
   ],
   "source": [
    "l1 = [\"jash\", \"max\",\"leclerc\",\"piastri\",\"hamilton\"]\n",
    "l1.sort()\n",
    "print(l1)"
   ]
  },
  {
   "cell_type": "code",
   "execution_count": null,
   "id": "d5c27a1d-e1ea-42ed-aa08-ffe02c431960",
   "metadata": {},
   "outputs": [],
   "source": []
  }
 ],
 "metadata": {
  "kernelspec": {
   "display_name": "Python 3 (ipykernel)",
   "language": "python",
   "name": "python3"
  },
  "language_info": {
   "codemirror_mode": {
    "name": "ipython",
    "version": 3
   },
   "file_extension": ".py",
   "mimetype": "text/x-python",
   "name": "python",
   "nbconvert_exporter": "python",
   "pygments_lexer": "ipython3",
   "version": "3.12.4"
  }
 },
 "nbformat": 4,
 "nbformat_minor": 5
}
