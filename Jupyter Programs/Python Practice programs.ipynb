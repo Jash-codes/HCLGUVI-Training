{
 "cells": [
  {
   "cell_type": "markdown",
   "id": "8c56b7bc-d36b-414b-82df-5819490490b9",
   "metadata": {},
   "source": [
    "## Print first 10 natural numbers"
   ]
  },
  {
   "cell_type": "code",
   "execution_count": 5,
   "id": "5816eb41-c3c8-4cc8-bec3-f96e57a0b9ba",
   "metadata": {},
   "outputs": [
    {
     "name": "stdout",
     "output_type": "stream",
     "text": [
      "1 2 3 4 5 6 7 8 9 10 "
     ]
    }
   ],
   "source": [
    "for i in range(1,11):\n",
    "    print(i,end=\" \")"
   ]
  },
  {
   "cell_type": "code",
   "execution_count": 6,
   "id": "143c407a-f938-4ccb-8094-6f14921deeea",
   "metadata": {},
   "outputs": [
    {
     "name": "stdout",
     "output_type": "stream",
     "text": [
      "1 2 3 4 5 6 7 8 9 10\n"
     ]
    }
   ],
   "source": [
    "print(*range(1,11))"
   ]
  },
  {
   "cell_type": "markdown",
   "id": "ca706cb6-d1d9-4aa7-9ac1-9e756af4a339",
   "metadata": {},
   "source": [
    "## sum of n natural numbers"
   ]
  },
  {
   "cell_type": "code",
   "execution_count": 10,
   "id": "28d32807-d86c-4f2b-ae94-f801636810d1",
   "metadata": {},
   "outputs": [
    {
     "name": "stdin",
     "output_type": "stream",
     "text": [
      "Enter a number:  4\n"
     ]
    },
    {
     "name": "stdout",
     "output_type": "stream",
     "text": [
      "1\n",
      "3\n",
      "6\n",
      "10\n"
     ]
    }
   ],
   "source": [
    "n = int(input(\"Enter a number: \"))\n",
    "s = 0\n",
    "for i in range(1,n+1):\n",
    "    s += i\n",
    "    print(s)"
   ]
  },
  {
   "cell_type": "code",
   "execution_count": 12,
   "id": "2eeb7c75-c663-4f7e-a92f-6652432caf07",
   "metadata": {},
   "outputs": [
    {
     "name": "stdin",
     "output_type": "stream",
     "text": [
      "Enter a number:  4\n"
     ]
    },
    {
     "name": "stdout",
     "output_type": "stream",
     "text": [
      "10\n"
     ]
    }
   ],
   "source": [
    "n = int(input(\"Enter a number: \"))\n",
    "print(n*(n+1)//2)"
   ]
  },
  {
   "cell_type": "markdown",
   "id": "671fa75d-ea35-43ea-9fa1-3041a8096cd4",
   "metadata": {},
   "source": [
    "## Factorial of a number"
   ]
  },
  {
   "cell_type": "code",
   "execution_count": 20,
   "id": "c1bbafa0-30c7-4b2d-b3a0-2adc51376fc5",
   "metadata": {},
   "outputs": [
    {
     "name": "stdin",
     "output_type": "stream",
     "text": [
      "Enter a number :  5\n"
     ]
    },
    {
     "name": "stdout",
     "output_type": "stream",
     "text": [
      "1\n",
      "2\n",
      "6\n",
      "24\n",
      "120\n"
     ]
    }
   ],
   "source": [
    "num = int(input(\"Enter a number : \"))\n",
    "fact = 1\n",
    "for i in range(1,num+1):\n",
    "    fact*=i\n",
    "    print(fact)"
   ]
  },
  {
   "cell_type": "code",
   "execution_count": 21,
   "id": "97120da8-8c14-4b53-aed8-df68dc73933f",
   "metadata": {},
   "outputs": [],
   "source": [
    "import math"
   ]
  },
  {
   "cell_type": "code",
   "execution_count": 23,
   "id": "479e5d33-1679-4275-b547-ebced5030bda",
   "metadata": {},
   "outputs": [
    {
     "name": "stdin",
     "output_type": "stream",
     "text": [
      "enter a number:  45\n"
     ]
    },
    {
     "name": "stdout",
     "output_type": "stream",
     "text": [
      "119622220865480194561963161495657715064383733760000000000\n"
     ]
    }
   ],
   "source": [
    "num = int(input(\"enter a number: \"))\n",
    "print(math.factorial(num))"
   ]
  },
  {
   "cell_type": "markdown",
   "id": "248a9be6-9b7d-4395-81ba-067b90534305",
   "metadata": {},
   "source": [
    "## Multiplication table"
   ]
  },
  {
   "cell_type": "code",
   "execution_count": 27,
   "id": "ff941ba1-573a-4b83-a222-fc62f769a2b8",
   "metadata": {},
   "outputs": [
    {
     "name": "stdin",
     "output_type": "stream",
     "text": [
      "Enter a number:  7\n"
     ]
    },
    {
     "name": "stdout",
     "output_type": "stream",
     "text": [
      "7 x 1 = 7\n",
      "7 x 2 = 14\n",
      "7 x 3 = 21\n",
      "7 x 4 = 28\n",
      "7 x 5 = 35\n",
      "7 x 6 = 42\n",
      "7 x 7 = 49\n",
      "7 x 8 = 56\n",
      "7 x 9 = 63\n",
      "7 x 10 = 70\n"
     ]
    }
   ],
   "source": [
    "n = int(input(\"Enter a number: \"))\n",
    "for i in range(1,11):\n",
    "    print(n, 'x', i, '=',n*i)"
   ]
  },
  {
   "cell_type": "code",
   "execution_count": 29,
   "id": "1784bf6b-eab5-4123-b563-78041f3cbdaa",
   "metadata": {},
   "outputs": [
    {
     "name": "stdin",
     "output_type": "stream",
     "text": [
      "enter a number:  7\n"
     ]
    },
    {
     "name": "stdout",
     "output_type": "stream",
     "text": [
      "7 x 1 = 7\n",
      "7 x 2 = 14\n",
      "7 x 3 = 21\n",
      "7 x 4 = 28\n",
      "7 x 5 = 35\n",
      "7 x 6 = 42\n",
      "7 x 7 = 49\n",
      "7 x 8 = 56\n",
      "7 x 9 = 63\n",
      "7 x 10 = 70\n"
     ]
    }
   ],
   "source": [
    "n = int(input(\"enter a number: \"))\n",
    "print('\\n'.join(f\"{n} x {i} = {n*i}\" for i in range(1,11)))"
   ]
  },
  {
   "cell_type": "code",
   "execution_count": null,
   "id": "5027e621-efbb-469b-a1d6-95d0a78b602b",
   "metadata": {},
   "outputs": [],
   "source": []
  }
 ],
 "metadata": {
  "kernelspec": {
   "display_name": "Python 3 (ipykernel)",
   "language": "python",
   "name": "python3"
  },
  "language_info": {
   "codemirror_mode": {
    "name": "ipython",
    "version": 3
   },
   "file_extension": ".py",
   "mimetype": "text/x-python",
   "name": "python",
   "nbconvert_exporter": "python",
   "pygments_lexer": "ipython3",
   "version": "3.12.4"
  }
 },
 "nbformat": 4,
 "nbformat_minor": 5
}
